{
 "cells": [
  {
   "cell_type": "code",
   "execution_count": 1,
   "metadata": {
    "collapsed": true
   },
   "outputs": [],
   "source": [
    "from bow_model.classifiers import validate_clf\n",
    "from preprocessing.prepare_data import generate_vectors\n",
    "from utils.path_util import from_project_root\n",
    "from sklearn.svm import LinearSVC\n"
   ]
  },
  {
   "cell_type": "code",
   "execution_count": 14,
   "metadata": {
    "collapsed": false
   },
   "outputs": [
    {
     "name": "stdout",
     "output_type": "stream",
     "text": [
      "(9947, 50000) (9947,) (2717, 50000)\n"
     ]
    },
    {
     "name": "stdout",
     "output_type": "stream",
     "text": [
      "validation is done in 1.819 seconds\nmetrics of each cv: \n train_f1 0.970211, val_f1 0.791060\n train_f1 0.970596, val_f1 0.779286\n train_f1 0.967705, val_f1 0.786325\n train_f1 0.972481, val_f1 0.773756\n train_f1 0.970093, val_f1 0.791855\naveraged f1_micro on val set: 0.784456\n\n"
     ]
    }
   ],
   "source": [
    "train_url = from_project_root(\"data/preliminary/train_exs.csv\")\n",
    "val_url = from_project_root(\"data/preliminary/best_subject_exs.csv\")\n",
    "# val_url = None\n",
    "X, y, X_val = generate_vectors(train_url, val_url, column='article', max_n=3, min_df=3, max_df=0.8,\n",
    "                               max_features=50000, trans_type='dc', sublinear_tf=True, balanced=True,\n",
    "                               multilabel_out=False, label_col='sentiment_value', only_single=False, shuffle=True)\n",
    "print(X.shape, y.shape, X_val.shape)\n",
    "clf = LinearSVC()\n",
    "validate_clf(clf, X, y)\n"
   ]
  },
  {
   "cell_type": "code",
   "execution_count": 16,
   "metadata": {
    "collapsed": false
   },
   "outputs": [
    {
     "name": "stdout",
     "output_type": "stream",
     "text": [
      "metrics on test set of preliminary:\n tp = 1665, fp = 1052, fn = 960, n_samples = 2625\n recall = 0.634286, precision = 0.612808, micro_f1 = 0.623362\n\n"
     ]
    }
   ],
   "source": [
    "import pandas as pd\n",
    "from utils.evaluate import evaluate\n",
    "test_df = pd.read_csv(\"data/preliminary/best_subject_exs.csv\")\n",
    "clf.fit(X, y)\n",
    "senti = clf.predict(X_val)\n",
    "test_df.sentiment_value = senti\n",
    "test_df.to_csv(from_project_root(\"data/tmp.csv\"), columns=[\"content_id\", \"subject\", \"sentiment_value\", \"sentiment_word\"], index=False)\n",
    "evaluate(from_project_root(\"data/tmp.csv\"), use_senti=True)"
   ]
  },
  {
   "cell_type": "code",
   "execution_count": null,
   "metadata": {},
   "outputs": [],
   "source": []
  }
 ],
 "metadata": {
  "kernelspec": {
   "display_name": "Python 2",
   "language": "python",
   "name": "python2"
  },
  "language_info": {
   "codemirror_mode": {
    "name": "ipython",
    "version": 2
   },
   "file_extension": ".py",
   "mimetype": "text/x-python",
   "name": "python",
   "nbconvert_exporter": "python",
   "pygments_lexer": "ipython2",
   "version": "2.7.6"
  }
 },
 "nbformat": 4,
 "nbformat_minor": 0
}
