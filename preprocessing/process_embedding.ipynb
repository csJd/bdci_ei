{
 "cells": [
  {
   "cell_type": "code",
   "execution_count": null,
   "metadata": {},
   "outputs": [],
   "source": [
    "# related file url: https://github.com/guuboi/SentimentAnalysis/tree/master/data\n",
    "\n",
    "w2id = dict()\n",
    "with open('word_to_id.txt', 'r', encoding='utf-8') as f:\n",
    "    for row in f:\n",
    "        word, id = row.split()\n",
    "        w2id[word] = id\n",
    "    w2id = dict(sorted(w2id.items(), key=lambda x: x[1], reverse=False))"
   ]
  },
  {
   "cell_type": "code",
   "execution_count": null,
   "metadata": {},
   "outputs": [],
   "source": [
    "with open('corpus_word2vec.txt', 'r', encoding='utf-8') as wvs,\\\n",
    "    open('ah_embeddins.txt', 'w', encoding='utf-8', newline='\\n') as w2vs:\n",
    "        for word, row in zip(w2id.keys(), wvs):\n",
    "            w2vs.write(word + ' ' + row)"
   ]
  }
 ],
 "metadata": {
  "kernelspec": {
   "display_name": "Python 3",
   "language": "python",
   "name": "python3"
  },
  "language_info": {
   "codemirror_mode": {
    "name": "ipython",
    "version": 3
   },
   "file_extension": ".py",
   "mimetype": "text/x-python",
   "name": "python",
   "nbconvert_exporter": "python",
   "pygments_lexer": "ipython3",
   "version": "3.6.7"
  }
 },
 "nbformat": 4,
 "nbformat_minor": 2
}
